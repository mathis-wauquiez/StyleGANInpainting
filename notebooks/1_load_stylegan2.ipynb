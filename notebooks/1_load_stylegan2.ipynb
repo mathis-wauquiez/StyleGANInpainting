{
 "cells": [
  {
   "cell_type": "markdown",
   "metadata": {},
   "source": [
    "# Testing StyleGAN2"
   ]
  },
  {
   "cell_type": "code",
   "execution_count": 1,
   "metadata": {},
   "outputs": [],
   "source": [
    "import sys\n",
    "import os\n",
    "from pathlib import Path\n",
    "\n",
    "# We change the working directory to the root of the project\n",
    "if not 'in_good_directory' in globals():\n",
    "    sys.path.append(os.path.abspath(\"../src\"))\n",
    "    sys.path.append(os.path.abspath(\"../src/stylegan2\"))\n",
    "    root_path = Path.cwd().parent\n",
    "    os.chdir(root_path)\n",
    "    sys.path.append(root_path / \"src\")\n",
    "\n",
    "    in_good_directory = True"
   ]
  },
  {
   "cell_type": "code",
   "execution_count": 3,
   "metadata": {},
   "outputs": [
    {
     "data": {
      "text/plain": [
       "WindowsPath('c:/Users/Mathis/Desktop/Github Projects/MVA/StyleGANInpainting')"
      ]
     },
     "execution_count": 3,
     "metadata": {},
     "output_type": "execute_result"
    }
   ],
   "source": [
    "Path.cwd()"
   ]
  },
  {
   "cell_type": "code",
   "execution_count": null,
   "metadata": {},
   "outputs": [],
   "source": [
    "import stylegan2\n",
    "from inpainting.utils import get_stylegan_generator, plot_images\n",
    "from inpainting.sampling import sample, sample_silent\n",
    "\n",
    "G = get_stylegan_generator()\n",
    "samples_list = []\n",
    "for i in range(10):\n",
    "    samples = sample_silent(G, 10, device='cuda', seed=42)\n",
    "    samples_list.append(samples)\n",
    "# plot_images(samples.clamp(-1, 1), nrow=4)"
   ]
  },
  {
   "cell_type": "code",
   "execution_count": null,
   "metadata": {},
   "outputs": [],
   "source": [
    "# save the samples to disk\n",
    "import matplotlib.pyplot as plt\n",
    "Path(\"data/samples\").mkdir(exist_ok=True, parents=True)\n",
    "for i, sample in enumerate(samples):\n",
    "    img = (sample.clamp(-1, 1).cpu().numpy().transpose(1, 2, 0) + 1) / 2\n",
    "    plt.imsave(f\"data/samples/sample_{i}.png\", img)\n"
   ]
  }
 ],
 "metadata": {
  "kernelspec": {
   "display_name": "ProjetTunnel",
   "language": "python",
   "name": "python3"
  },
  "language_info": {
   "codemirror_mode": {
    "name": "ipython",
    "version": 3
   },
   "file_extension": ".py",
   "mimetype": "text/x-python",
   "name": "python",
   "nbconvert_exporter": "python",
   "pygments_lexer": "ipython3",
   "version": "3.8.19"
  }
 },
 "nbformat": 4,
 "nbformat_minor": 2
}
